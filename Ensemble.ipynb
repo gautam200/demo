{
  "nbformat": 4,
  "nbformat_minor": 0,
  "metadata": {
    "colab": {
      "provenance": [],
      "authorship_tag": "ABX9TyM1tUo5KjSFnwlhZORtjWl1",
      "include_colab_link": true
    },
    "kernelspec": {
      "name": "python3",
      "display_name": "Python 3"
    },
    "language_info": {
      "name": "python"
    }
  },
  "cells": [
    {
      "cell_type": "markdown",
      "metadata": {
        "id": "view-in-github",
        "colab_type": "text"
      },
      "source": [
        "<a href=\"https://colab.research.google.com/github/gautam200/demo/blob/main/Ensemble.ipynb\" target=\"_parent\"><img src=\"https://colab.research.google.com/assets/colab-badge.svg\" alt=\"Open In Colab\"/></a>"
      ]
    },
    {
      "cell_type": "code",
      "source": [
        "#Bagging Method\n",
        "import pandas as pd\n",
        "from sklearn import model_selection\n",
        "from sklearn.tree import DecisionTreeClassifier\n",
        "from sklearn.neighbors import KNeighborsClassifier\n",
        "from sklearn.svm import SVC\n",
        "from sklearn.metrics import accuracy_score\n",
        "from sklearn.ensemble import VotingClassifier\n",
        "from sklearn.model_selection import train_test_split\n",
        "\n",
        "col_names = ['pregnant' , 'glucose', 'bp' , 'skin' , 'insulin', 'bmi' , 'pedigree' , 'age' , 'label']\n",
        "\n",
        "pima = pd.read_csv(\"pima-indians-diabetes (2).csv\", header=None , names=col_names)\n",
        "feature_cols = ['pregnant' , 'insulin', 'bmi' , 'age' , 'glucose' , 'bp' , 'pedigree']\n",
        "\n",
        "X= pima[feature_cols]\n",
        "Y = pima.label\n",
        "\n",
        "estimators = []\n",
        "model1 = KNeighborsClassifier(n_neighbors = 5)\n",
        "estimators.append(('KNN',model1))\n",
        "\n",
        "model2 = DecisionTreeClassifier()\n",
        "estimators.append(('cart',model2))\n",
        "\n",
        "model3 = SVC()\n",
        "estimators.append(('svm',model3))\n",
        "\n",
        "#create the ensemble model\n",
        "\n",
        "ensemble = VotingClassifier(estimators)  #bagging ensemble\n",
        "eclf1 = ensemble.fit(X,Y)\n",
        "y1 = eclf1.predict(X)\n",
        "accuracy_score(Y,y1)"
      ],
      "metadata": {
        "colab": {
          "base_uri": "https://localhost:8080/"
        },
        "id": "L2wOi8N8DIbl",
        "outputId": "8d3bd8fb-f456-4ade-f9bb-2a84cd95d502"
      },
      "execution_count": null,
      "outputs": [
        {
          "output_type": "execute_result",
          "data": {
            "text/plain": [
              "0.8606770833333334"
            ]
          },
          "metadata": {},
          "execution_count": 1
        }
      ]
    },
    {
      "cell_type": "markdown",
      "source": [
        "**Adaboost Classifier**"
      ],
      "metadata": {
        "id": "8QR_U39yH6x6"
      }
    },
    {
      "cell_type": "code",
      "source": [
        "import pandas\n",
        "from sklearn import model_selection\n",
        "from sklearn.ensemble import AdaBoostClassifier\n",
        "num_trees = 20\n",
        "kfold = model_selection.KFold(n_splits=5)\n",
        "model = AdaBoostClassifier(n_estimators=num_trees)    #it is default decision tree estimator\n",
        "results = model_selection.cross_val_score(model, X, Y, cv=kfold)\n",
        "print(results.mean())"
      ],
      "metadata": {
        "colab": {
          "base_uri": "https://localhost:8080/"
        },
        "id": "uzRas4WoHMNH",
        "outputId": "748c3899-3afd-411e-bdef-b233536e0bb0"
      },
      "execution_count": null,
      "outputs": [
        {
          "output_type": "stream",
          "name": "stdout",
          "text": [
            "0.7513623631270689\n"
          ]
        }
      ]
    },
    {
      "cell_type": "code",
      "source": [
        "from sklearn.ensemble import AdaBoostClassifier\n",
        "from sklearn.svm import SVC\n",
        "from sklearn import metrics\n",
        "svc = SVC(probability=True, kernel= 'linear')\n",
        "#create adaboost classifier object\n",
        "abc = AdaBoostClassifier(n_estimators=100, base_estimator=svc)\n",
        "# Train Adaboost Classifier\n",
        "model = abc.fit(X,Y)\n",
        "# Predict the response for test dataset\n",
        "y_pred = model.predict(X)\n",
        "print(\"Accuracy:\", metrics.accuracy_score(Y,y_pred))\n"
      ],
      "metadata": {
        "colab": {
          "base_uri": "https://localhost:8080/"
        },
        "id": "fi_OeqJhIhJd",
        "outputId": "a27ac31a-6d9d-4543-be16-0457397e9494"
      },
      "execution_count": null,
      "outputs": [
        {
          "output_type": "stream",
          "name": "stderr",
          "text": [
            "/usr/local/lib/python3.10/dist-packages/sklearn/ensemble/_base.py:166: FutureWarning: `base_estimator` was renamed to `estimator` in version 1.2 and will be removed in 1.4.\n",
            "  warnings.warn(\n"
          ]
        },
        {
          "output_type": "stream",
          "name": "stdout",
          "text": [
            "Accuracy: 0.6575520833333334\n"
          ]
        }
      ]
    },
    {
      "cell_type": "code",
      "source": [
        "from sklearn.ensemble import RandomForestClassifier\n",
        "clf = RandomForestClassifier(max_depth=2, random_state=0)\n",
        "clf.fit(X,Y)\n",
        "y1 = clf.predict(X)\n",
        "accuracy_score(Y,y1)"
      ],
      "metadata": {
        "colab": {
          "base_uri": "https://localhost:8080/"
        },
        "id": "pxvDXIBrNbGp",
        "outputId": "a3f4243d-53e7-424e-cbac-1956135bd923"
      },
      "execution_count": null,
      "outputs": [
        {
          "output_type": "execute_result",
          "data": {
            "text/plain": [
              "0.7708333333333334"
            ]
          },
          "metadata": {},
          "execution_count": 8
        }
      ]
    },
    {
      "cell_type": "code",
      "source": [
        "import numpy as np\n",
        "from sklearn.ensemble import RandomForestClassifier\n",
        "from sklearn.model_selection import cross_val_score\n",
        "\n",
        "# Create a Random Forest Classifier\n",
        "rf_classifier = RandomForestClassifier(random_state=42)\n",
        "\n",
        "# Define a range of values for n_estimators\n",
        "estimator_values = [10, 20, 100]\n",
        "\n",
        "# Perform cross-validation and compute accuracy for each n_estimators value\n",
        "accuracy_results = {n: np.mean(cross_val_score(RandomForestClassifier(n_estimators=n, random_state=42), X, Y, cv=5, scoring='accuracy')) for n in estimator_values}\n",
        "\n",
        "# Print the results\n",
        "for n, accuracy in accuracy_results.items():\n",
        "    print(f'n_estimators={n}: Accuracy={accuracy:.4f}')\n"
      ],
      "metadata": {
        "id": "wNk1VEPzPCdh",
        "colab": {
          "base_uri": "https://localhost:8080/"
        },
        "outputId": "bd6031ed-3eb1-4730-db1d-e3c20f07dd1d"
      },
      "execution_count": null,
      "outputs": [
        {
          "output_type": "stream",
          "name": "stdout",
          "text": [
            "n_estimators=10: Accuracy=0.7657\n",
            "n_estimators=20: Accuracy=0.7578\n",
            "n_estimators=100: Accuracy=0.7735\n"
          ]
        }
      ]
    },
    {
      "cell_type": "code",
      "source": [],
      "metadata": {
        "id": "xg_-CH6tagaf"
      },
      "execution_count": null,
      "outputs": []
    }
  ]
}