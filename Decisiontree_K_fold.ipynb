{
  "nbformat": 4,
  "nbformat_minor": 0,
  "metadata": {
    "colab": {
      "provenance": [],
      "authorship_tag": "ABX9TyOzbKDe4mJTVnz5uiLVOUJE",
      "include_colab_link": true
    },
    "kernelspec": {
      "name": "python3",
      "display_name": "Python 3"
    },
    "language_info": {
      "name": "python"
    }
  },
  "cells": [
    {
      "cell_type": "markdown",
      "metadata": {
        "id": "view-in-github",
        "colab_type": "text"
      },
      "source": [
        "<a href=\"https://colab.research.google.com/github/gautam200/demo/blob/main/Decisiontree_K_fold.ipynb\" target=\"_parent\"><img src=\"https://colab.research.google.com/assets/colab-badge.svg\" alt=\"Open In Colab\"/></a>"
      ]
    },
    {
      "cell_type": "code",
      "execution_count": null,
      "metadata": {
        "colab": {
          "base_uri": "https://localhost:8080/"
        },
        "id": "o2_p7T-1QXFp",
        "outputId": "52d90145-f061-4a4d-f320-364862385302"
      },
      "outputs": [
        {
          "output_type": "execute_result",
          "data": {
            "text/plain": [
              "0.6927179487179488"
            ]
          },
          "metadata": {},
          "execution_count": 19
        }
      ],
      "source": [
        "# k-fold\n",
        "\n",
        "import pandas as pd\n",
        "from sklearn import model_selection\n",
        "from sklearn.tree import DecisionTreeClassifier\n",
        "from sklearn.metrics import accuracy_score\n",
        "from sklearn.model_selection import train_test_split\n",
        "\n",
        "col_names = ['pregnant' , 'glucose', 'bp' , 'skin' , 'insulin', 'bmi' , 'pedigree' , 'age' , 'label']\n",
        "\n",
        "pima = pd.read_csv(\"pima-indians-diabetes (2).csv\", header=None , names=col_names)\n",
        "feature_cols = ['pregnant' , 'insulin', 'bmi' , 'age' , 'glucose' , 'bp' , 'pedigree']\n",
        "\n",
        "X= pima[feature_cols]\n",
        "Y = pima.label\n",
        "\n",
        "regressor = DecisionTreeClassifier()\n",
        "x_train,x_test,y_train,y_test = train_test_split(X,Y,test_size=0.25,random_state=0)\n",
        "regressor.fit(x_train,y_train)   #training of classifer\n",
        "\n",
        "from sklearn.model_selection import cross_val_score\n",
        "accuracies = cross_val_score(estimator = regressor,X=X,y=Y,cv=30)\n",
        "accuracies\n",
        "accuracies.mean()"
      ]
    },
    {
      "cell_type": "code",
      "source": [
        "#Leave one out Cross Validation\n",
        "\n",
        "import pandas as pd\n",
        "from sklearn.tree import DecisionTreeClassifier\n",
        "from sklearn.model_selection import cross_val_score, LeaveOneOut\n",
        "from sklearn.metrics import accuracy_score\n",
        "\n",
        "col_names = ['pregnant', 'glucose', 'bp', 'skin', 'insulin', 'bmi', 'pedigree', 'age', 'label']\n",
        "\n",
        "\n",
        "pima = pd.read_csv(\"pima-indians-diabetes (2).csv\", header=None, names=col_names)\n",
        "feature_cols = ['pregnant', 'insulin', 'bmi', 'age', 'glucose', 'bp', 'pedigree']\n",
        "\n",
        "X = pima[feature_cols]\n",
        "Y = pima.label\n",
        "\n",
        "regressor = DecisionTreeClassifier()\n",
        "\n",
        "# Leave-One-Out Cross-Validation\n",
        "loo = LeaveOneOut()\n",
        "accuracies = cross_val_score(estimator=regressor, X=X, y=Y, cv=loo)\n",
        "\n",
        "# accuracies is now an array of accuracy scores, one for each fold\n",
        "print(\"Accuracy for each fold:\", accuracies)\n",
        "print(\"Mean accuracy:\", accuracies.mean())\n"
      ],
      "metadata": {
        "colab": {
          "base_uri": "https://localhost:8080/"
        },
        "id": "V5vSkqZvRrce",
        "outputId": "2b97b5c3-5ba5-43c5-998b-186bf858d96e"
      },
      "execution_count": null,
      "outputs": [
        {
          "output_type": "stream",
          "name": "stdout",
          "text": [
            "Accuracy for each fold: [1. 1. 1. 1. 0. 1. 0. 1. 1. 1. 1. 1. 1. 0. 1. 0. 1. 1. 1. 0. 1. 1. 1. 0.\n",
            " 0. 1. 0. 1. 0. 1. 1. 1. 1. 1. 0. 1. 0. 1. 0. 0. 0. 0. 1. 1. 0. 1. 0. 1.\n",
            " 0. 1. 1. 1. 1. 1. 0. 1. 1. 1. 1. 1. 1. 0. 1. 0. 1. 0. 0. 1. 1. 0. 0. 1.\n",
            " 1. 1. 0. 1. 1. 1. 1. 1. 1. 1. 1. 1. 1. 1. 1. 1. 0. 1. 1. 1. 1. 0. 1. 0.\n",
            " 1. 1. 1. 1. 1. 1. 1. 1. 1. 1. 1. 1. 1. 0. 1. 0. 0. 1. 1. 1. 0. 1. 1. 1.\n",
            " 1. 0. 1. 1. 0. 1. 1. 1. 0. 1. 0. 1. 1. 1. 1. 1. 1. 1. 0. 1. 1. 0. 0. 0.\n",
            " 1. 1. 1. 0. 0. 1. 1. 1. 1. 1. 0. 1. 1. 1. 1. 1. 1. 0. 1. 1. 1. 1. 0. 0.\n",
            " 1. 1. 0. 0. 1. 1. 1. 1. 1. 0. 0. 1. 1. 1. 1. 1. 1. 1. 1. 1. 1. 0. 1. 1.\n",
            " 1. 1. 1. 1. 1. 0. 0. 1. 1. 1. 1. 1. 1. 1. 1. 1. 1. 1. 1. 0. 0. 0. 0. 1.\n",
            " 0. 1. 0. 0. 1. 1. 1. 1. 1. 1. 1. 1. 0. 1. 1. 1. 1. 0. 1. 1. 0. 1. 1. 1.\n",
            " 1. 1. 0. 0. 1. 0. 0. 0. 0. 1. 0. 1. 1. 1. 0. 1. 1. 1. 0. 1. 0. 1. 1. 1.\n",
            " 1. 0. 1. 0. 1. 1. 1. 1. 1. 1. 1. 1. 0. 1. 1. 1. 0. 1. 0. 1. 1. 1. 0. 0.\n",
            " 1. 1. 0. 0. 1. 1. 0. 0. 0. 1. 0. 1. 1. 1. 1. 1. 0. 0. 1. 1. 1. 1. 1. 1.\n",
            " 0. 1. 1. 1. 1. 1. 1. 0. 0. 0. 1. 0. 0. 1. 0. 0. 0. 0. 1. 1. 1. 1. 1. 0.\n",
            " 0. 1. 1. 1. 1. 1. 1. 0. 1. 1. 0. 1. 1. 0. 1. 1. 0. 1. 1. 0. 0. 0. 0. 1.\n",
            " 1. 1. 0. 1. 1. 1. 0. 1. 1. 1. 1. 1. 1. 1. 1. 1. 1. 1. 1. 1. 1. 1. 1. 1.\n",
            " 1. 1. 0. 0. 1. 0. 0. 0. 1. 1. 1. 1. 1. 0. 1. 0. 0. 0. 0. 1. 1. 0. 1. 1.\n",
            " 1. 1. 1. 1. 1. 1. 1. 0. 1. 1. 1. 0. 1. 1. 1. 1. 1. 1. 1. 0. 0. 0. 1. 1.\n",
            " 1. 1. 1. 1. 0. 0. 1. 0. 1. 1. 1. 1. 0. 1. 1. 1. 1. 1. 1. 0. 1. 1. 1. 1.\n",
            " 0. 1. 1. 1. 1. 1. 1. 1. 1. 1. 1. 0. 0. 0. 1. 0. 1. 0. 1. 1. 1. 1. 1. 1.\n",
            " 1. 1. 1. 1. 1. 0. 0. 0. 1. 1. 1. 1. 1. 0. 1. 1. 1. 1. 1. 0. 1. 1. 1. 1.\n",
            " 1. 1. 1. 0. 1. 1. 0. 1. 1. 1. 1. 0. 1. 1. 1. 1. 1. 1. 1. 1. 0. 1. 1. 1.\n",
            " 1. 1. 1. 1. 1. 1. 0. 1. 1. 1. 1. 1. 0. 0. 0. 1. 1. 1. 1. 0. 0. 0. 1. 1.\n",
            " 1. 1. 1. 1. 1. 0. 1. 1. 0. 1. 1. 1. 0. 1. 1. 0. 1. 0. 1. 1. 1. 1. 1. 0.\n",
            " 1. 0. 0. 1. 1. 1. 0. 1. 1. 1. 0. 1. 1. 1. 1. 1. 0. 1. 0. 1. 0. 1. 1. 1.\n",
            " 1. 1. 0. 1. 0. 0. 1. 1. 1. 1. 1. 1. 1. 1. 1. 1. 0. 1. 1. 1. 0. 1. 0. 1.\n",
            " 1. 1. 1. 1. 0. 1. 1. 1. 1. 1. 1. 0. 1. 1. 0. 1. 0. 1. 0. 1. 1. 0. 1. 1.\n",
            " 0. 1. 1. 1. 1. 1. 1. 1. 1. 0. 1. 0. 1. 1. 1. 1. 1. 1. 0. 0. 0. 0. 0. 1.\n",
            " 1. 0. 1. 0. 1. 1. 0. 1. 1. 1. 1. 0. 1. 0. 0. 1. 1. 1. 1. 1. 0. 1. 1. 0.\n",
            " 0. 1. 1. 0. 1. 0. 0. 0. 1. 1. 1. 0. 1. 0. 1. 0. 1. 0. 0. 1. 1. 1. 1. 0.\n",
            " 1. 1. 0. 1. 0. 0. 1. 1. 1. 1. 0. 0. 1. 1. 1. 1. 1. 1. 1. 1. 1. 1. 1. 1.\n",
            " 1. 0. 0. 1. 1. 1. 1. 1. 1. 0. 1. 1. 0. 0. 1. 0. 1. 1. 1. 1. 1. 1. 1. 1.]\n",
            "Mean accuracy: 0.7174479166666666\n"
          ]
        }
      ]
    },
    {
      "cell_type": "code",
      "source": [
        "#Shuffle Split cross validation\n",
        "import pandas as pd\n",
        "from sklearn.tree import DecisionTreeClassifier\n",
        "from sklearn.model_selection import cross_val_score, ShuffleSplit\n",
        "from sklearn.metrics import accuracy_score\n",
        "\n",
        "col_names = ['pregnant', 'glucose', 'bp', 'skin', 'insulin', 'bmi', 'pedigree', 'age', 'label']\n",
        "\n",
        "pima = pd.read_csv(\"pima-indians-diabetes (2).csv\", header=None, names=col_names)\n",
        "feature_cols = ['pregnant', 'insulin', 'bmi', 'age', 'glucose', 'bp', 'pedigree']\n",
        "\n",
        "X = pima[feature_cols]\n",
        "Y = pima.label\n",
        "\n",
        "regressor = DecisionTreeClassifier()\n",
        "\n",
        "# ShuffleSplit Cross-Validation\n",
        "cv = ShuffleSplit(n_splits=10, test_size=0.25, random_state=0)  # You can adjust n_splits and test_size as needed\n",
        "accuracies = cross_val_score(estimator=regressor, X=X, y=Y, cv=cv)\n",
        "\n",
        "# accuracies is now an array of accuracy scores, one for each fold\n",
        "print(\"Accuracy for each fold:\", accuracies)\n",
        "print(\"Mean accuracy:\", accuracies.mean())\n"
      ],
      "metadata": {
        "colab": {
          "base_uri": "https://localhost:8080/"
        },
        "id": "hgSWz1iTTA69",
        "outputId": "b9f78f5c-7226-4b04-b879-d242eb64f447"
      },
      "execution_count": null,
      "outputs": [
        {
          "output_type": "stream",
          "name": "stdout",
          "text": [
            "Accuracy for each fold: [0.72395833 0.64583333 0.67708333 0.71875    0.61979167 0.765625\n",
            " 0.75520833 0.65104167 0.72395833 0.75      ]\n",
            "Mean accuracy: 0.7031249999999999\n"
          ]
        }
      ]
    },
    {
      "cell_type": "code",
      "source": [
        "from sklearn.model_selection import StratifiedKFold\n",
        "from sklearn.model_selection import cross_validate\n",
        "\n",
        "stratified_cv = StratifiedKFold(n_splits=5, shuffle=True, random_state=42)\n",
        "\n",
        "cv_results = cross_validate(regressor, X, Y, cv=stratified_cv)\n",
        "print(cv_results)\n"
      ],
      "metadata": {
        "colab": {
          "base_uri": "https://localhost:8080/"
        },
        "id": "TRfKoC6SVKGH",
        "outputId": "ca1032de-b1e8-4c3f-f323-c3fb830f82b9"
      },
      "execution_count": null,
      "outputs": [
        {
          "output_type": "stream",
          "name": "stdout",
          "text": [
            "{'fit_time': array([0.00844908, 0.00481224, 0.00429153, 0.0043807 , 0.00502849]), 'score_time': array([0.00357842, 0.00182748, 0.00210547, 0.00210238, 0.00196671]), 'test_score': array([0.72077922, 0.72727273, 0.66883117, 0.70588235, 0.62091503])}\n"
          ]
        }
      ]
    },
    {
      "cell_type": "code",
      "source": [
        "\n",
        "from numpy import average\n",
        "from sklearn.metrics import make_scorer, precision_score, recall_score,f1_score\n",
        "\n",
        "scoring = {\n",
        "    'precision': make_scorer(precision_score, average='weighted'),\n",
        "    'recall': make_scorer(recall_score, average='weighted'),\n",
        "    'f1_score': make_scorer(f1_score, average='weighted')\n",
        "}\n",
        "\n",
        "cv_results = cross_validate(regressor, X, Y, cv=5,scoring=scoring )\n",
        "print(cv_results)"
      ],
      "metadata": {
        "id": "vKE0RvnvWPVR",
        "colab": {
          "base_uri": "https://localhost:8080/"
        },
        "outputId": "e9cfca66-f9b1-4d39-b58c-d982b946f999"
      },
      "execution_count": null,
      "outputs": [
        {
          "output_type": "stream",
          "name": "stdout",
          "text": [
            "{'fit_time': array([0.01293516, 0.00694442, 0.00556636, 0.00485849, 0.00470591]), 'score_time': array([0.01208258, 0.02276874, 0.00597048, 0.00599289, 0.00598216]), 'test_precision': array([0.72507884, 0.72128884, 0.68893012, 0.78703201, 0.73799653]), 'test_recall': array([0.72727273, 0.68181818, 0.69480519, 0.79084967, 0.74509804]), 'test_f1_score': array([0.72604996, 0.68905241, 0.69111944, 0.78762104, 0.73876101])}\n"
          ]
        }
      ]
    },
    {
      "cell_type": "code",
      "source": [
        "import numpy as np\n",
        "from sklearn.model_selection import cross_validate\n",
        "from sklearn.metrics import make_scorer, precision_score, recall_score, f1_score\n",
        "\n",
        "# Set the desired precision for numpy\n",
        "np.set_printoptions(precision=2)\n",
        "\n",
        "scoring = {\n",
        "    'precision': make_scorer(precision_score, average='weighted'),\n",
        "    'recall': make_scorer(recall_score, average='weighted'),\n",
        "    'f1_score': make_scorer(f1_score, average='weighted')\n",
        "}\n",
        "\n",
        "cv_results = cross_validate(regressor, X, Y, cv=5, scoring=scoring)\n",
        "\n",
        "# Calculate mean scores across folds\n",
        "mean_precision = np.mean(cv_results['test_precision'])\n",
        "mean_recall = np.mean(cv_results['test_recall'])\n",
        "mean_f1_score = np.mean(cv_results['test_f1_score'])\n",
        "\n",
        "print(f'Mean Precision: {mean_precision:}')\n",
        "print(f'Mean Recall: {mean_recall:}')\n",
        "print(f'Mean F1 Score: {mean_f1_score:}')\n"
      ],
      "metadata": {
        "colab": {
          "base_uri": "https://localhost:8080/"
        },
        "id": "KsnFxSCUQJUR",
        "outputId": "6df47b22-0e99-4a37-afd2-15caa271da83"
      },
      "execution_count": null,
      "outputs": [
        {
          "output_type": "stream",
          "name": "stdout",
          "text": [
            "Mean Precision: 0.7282481496713911\n",
            "Mean Recall: 0.7240811476105593\n",
            "Mean F1 Score: 0.7232457365979845\n"
          ]
        }
      ]
    },
    {
      "cell_type": "code",
      "source": [
        "print(cv_results)\n"
      ],
      "metadata": {
        "colab": {
          "base_uri": "https://localhost:8080/"
        },
        "id": "EGoqvb08QNEv",
        "outputId": "f2e74a9d-8425-41d6-b727-1e0ac047ecbb"
      },
      "execution_count": null,
      "outputs": [
        {
          "output_type": "stream",
          "name": "stdout",
          "text": [
            "{'fit_time': array([0.00909066, 0.00506496, 0.00456667, 0.00505972, 0.00448942]), 'score_time': array([0.00234127, 0.00218821, 0.00213265, 0.00213885, 0.00195956]), 'test_score': array([0.72077922, 0.67532468, 0.68831169, 0.77777778, 0.77124183])}\n"
          ]
        }
      ]
    },
    {
      "cell_type": "code",
      "source": [],
      "metadata": {
        "id": "wVzVtkHKQQL9",
        "colab": {
          "base_uri": "https://localhost:8080/",
          "height": 175
        },
        "outputId": "a635ee01-a71e-42f0-b3c6-1ad0b5389171"
      },
      "execution_count": null,
      "outputs": [
        {
          "output_type": "error",
          "ename": "NameError",
          "evalue": "ignored",
          "traceback": [
            "\u001b[0;31m---------------------------------------------------------------------------\u001b[0m",
            "\u001b[0;31mNameError\u001b[0m                                 Traceback (most recent call last)",
            "\u001b[0;32m<ipython-input-1-fb8df68140dd>\u001b[0m in \u001b[0;36m<cell line: 1>\u001b[0;34m()\u001b[0m\n\u001b[0;32m----> 1\u001b[0;31m \u001b[0mprint\u001b[0m\u001b[0;34m(\u001b[0m\u001b[0mcv_results\u001b[0m\u001b[0;34m)\u001b[0m\u001b[0;34m\u001b[0m\u001b[0;34m\u001b[0m\u001b[0m\n\u001b[0m",
            "\u001b[0;31mNameError\u001b[0m: name 'cv_results' is not defined"
          ]
        }
      ]
    },
    {
      "cell_type": "code",
      "source": [],
      "metadata": {
        "id": "rZ6M_KU8VX1m"
      },
      "execution_count": null,
      "outputs": []
    }
  ]
}